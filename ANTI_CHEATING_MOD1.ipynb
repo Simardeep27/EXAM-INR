{
 "cells": [
  {
   "cell_type": "code",
   "execution_count": 32,
   "metadata": {},
   "outputs": [],
   "source": [
    "import cv2\n",
    "import numpy\n",
    "import PIL\n",
    "import datetime"
   ]
  },
  {
   "cell_type": "code",
   "execution_count": 1,
   "metadata": {},
   "outputs": [],
   "source": [
    "import time"
   ]
  },
  {
   "cell_type": "code",
   "execution_count": 30,
   "metadata": {},
   "outputs": [],
   "source": [
    "import pandas as pd"
   ]
  },
  {
   "cell_type": "code",
   "execution_count": 51,
   "metadata": {},
   "outputs": [],
   "source": [
    "status_list=[]\n"
   ]
  },
  {
   "cell_type": "code",
   "execution_count": 55,
   "metadata": {},
   "outputs": [
    {
     "name": "stdout",
     "output_type": "stream",
     "text": [
      "True\n"
     ]
    }
   ],
   "source": [
    "cap = cv2.VideoCapture(0)\n",
    "fourcc = cv2.VideoWriter_fourcc(*'XVID')\n",
    "out = cv2.VideoWriter('StudentName+TestId.avi',fourcc,20.0,(640,480))\n",
    "print(cap.isOpened())\n",
    "while(cap.isOpened()):\n",
    "    ret, frame = cap.read()\n",
    "    if ret == True:\n",
    "        \n",
    "#         status_list=[None,None]\n",
    "        Face_Cascade(frame)\n",
    "#         if stat==1:\n",
    "#             status_list.append(datetime.datetime.now())\n",
    "#         else :\n",
    "#             pass\n",
    "        \n",
    "        out.write(frame)\n",
    "        gray=cv2.cvtColor(frame,cv2.COLOR_BGR2GRAY)\n",
    "        cv2.imshow('frame',frame)\n",
    "        \n",
    "        if cv2.waitKey(1) & 0xFF == ord('q'):\n",
    "            break\n",
    "    else:\n",
    "        pass\n",
    "cap.release() \n",
    "out.release()\n",
    "cv2.destroyAllWindows()"
   ]
  },
  {
   "cell_type": "code",
   "execution_count": 54,
   "metadata": {},
   "outputs": [],
   "source": [
    "def Face_Cascade(frame):\n",
    "    face_cascade=cv2.CascadeClassifier(cv2.data.haarcascades+\"haarcascade_frontalface_default.xml\")\n",
    "    gray=cv2.cvtColor(frame,cv2.COLOR_BGR2GRAY)\n",
    "    faces = face_cascade.detectMultiScale(gray, 1.3, 5)\n",
    "    times=[]\n",
    "    status=0\n",
    "    for (x,y,w,h) in faces:\n",
    "        img = cv2.rectangle(frame,(x,y),(x+w,y+h),(255,0,0),2)\n",
    "        roi_gray = gray[y:y+h, x:x+w]\n",
    "        roi_color = frame[y:y+h, x:x+w]\n",
    "        status=1\n",
    "    status_list.append((datetime.datetime.now(),status))\n",
    "    "
   ]
  },
  {
   "cell_type": "code",
   "execution_count": 29,
   "metadata": {},
   "outputs": [
    {
     "data": {
      "text/plain": [
       "(10, 29, 51)"
      ]
     },
     "execution_count": 29,
     "metadata": {},
     "output_type": "execute_result"
    }
   ],
   "source": [
    "time.localtime()[3:6]\n",
    "\n",
    "\n"
   ]
  },
  {
   "cell_type": "code",
   "execution_count": 45,
   "metadata": {},
   "outputs": [
    {
     "data": {
      "text/plain": [
       "[((10, 57, 51), 1)]"
      ]
     },
     "execution_count": 45,
     "metadata": {},
     "output_type": "execute_result"
    }
   ],
   "source": [
    "t"
   ]
  },
  {
   "cell_type": "code",
   "execution_count": 31,
   "metadata": {},
   "outputs": [],
   "source": [
    "df=pd.DataFrame(['Start','End'])"
   ]
  },
  {
   "cell_type": "code",
   "execution_count": 56,
   "metadata": {},
   "outputs": [
    {
     "data": {
      "text/plain": [
       "[(datetime.datetime(2020, 9, 2, 11, 16, 12, 792729), 1),\n",
       " (datetime.datetime(2020, 9, 2, 11, 16, 13, 28895), 1),\n",
       " (datetime.datetime(2020, 9, 2, 11, 16, 13, 232040), 1),\n",
       " (datetime.datetime(2020, 9, 2, 11, 16, 13, 449193), 1),\n",
       " (datetime.datetime(2020, 9, 2, 11, 16, 13, 665347), 1),\n",
       " (datetime.datetime(2020, 9, 2, 11, 16, 13, 842472), 1),\n",
       " (datetime.datetime(2020, 9, 2, 11, 16, 14, 30605), 1),\n",
       " (datetime.datetime(2020, 9, 2, 11, 16, 14, 230746), 1),\n",
       " (datetime.datetime(2020, 9, 2, 11, 16, 14, 430889), 1),\n",
       " (datetime.datetime(2020, 9, 2, 11, 16, 14, 651044), 1),\n",
       " (datetime.datetime(2020, 9, 2, 11, 16, 14, 858192), 0),\n",
       " (datetime.datetime(2020, 9, 2, 11, 16, 15, 68341), 1),\n",
       " (datetime.datetime(2020, 9, 2, 11, 16, 15, 261477), 0),\n",
       " (datetime.datetime(2020, 9, 2, 11, 16, 15, 467624), 0),\n",
       " (datetime.datetime(2020, 9, 2, 11, 16, 15, 696786), 0),\n",
       " (datetime.datetime(2020, 9, 2, 11, 16, 15, 888921), 0),\n",
       " (datetime.datetime(2020, 9, 2, 11, 16, 16, 73053), 0),\n",
       " (datetime.datetime(2020, 9, 2, 11, 16, 16, 264188), 0),\n",
       " (datetime.datetime(2020, 9, 2, 11, 16, 16, 470334), 0),\n",
       " (datetime.datetime(2020, 9, 2, 11, 16, 16, 709504), 0),\n",
       " (datetime.datetime(2020, 9, 2, 11, 16, 16, 916652), 0),\n",
       " (datetime.datetime(2020, 9, 2, 11, 16, 17, 175835), 0),\n",
       " (datetime.datetime(2020, 9, 2, 11, 16, 17, 366972), 0),\n",
       " (datetime.datetime(2020, 9, 2, 11, 16, 17, 618148), 1),\n",
       " (datetime.datetime(2020, 9, 2, 11, 16, 17, 871327), 1),\n",
       " (datetime.datetime(2020, 9, 2, 11, 16, 18, 146522), 1),\n",
       " (datetime.datetime(2020, 9, 2, 11, 16, 18, 349666), 1),\n",
       " (datetime.datetime(2020, 9, 2, 11, 16, 18, 544805), 1),\n",
       " (datetime.datetime(2020, 9, 2, 11, 16, 18, 782974), 1),\n",
       " (datetime.datetime(2020, 9, 2, 11, 16, 18, 981114), 1),\n",
       " (datetime.datetime(2020, 9, 2, 11, 16, 19, 173251), 0),\n",
       " (datetime.datetime(2020, 9, 2, 11, 16, 19, 350376), 0),\n",
       " (datetime.datetime(2020, 9, 2, 11, 16, 19, 536508), 0),\n",
       " (datetime.datetime(2020, 9, 2, 11, 16, 19, 732647), 0),\n",
       " (datetime.datetime(2020, 9, 2, 11, 16, 19, 915776), 0),\n",
       " (datetime.datetime(2020, 9, 2, 11, 16, 20, 85897), 0),\n",
       " (datetime.datetime(2020, 9, 2, 11, 16, 20, 287039), 0)]"
      ]
     },
     "execution_count": 56,
     "metadata": {},
     "output_type": "execute_result"
    }
   ],
   "source": [
    "status_list"
   ]
  },
  {
   "cell_type": "code",
   "execution_count": null,
   "metadata": {},
   "outputs": [],
   "source": []
  }
 ],
 "metadata": {
  "kernelspec": {
   "display_name": "Python 3",
   "language": "python",
   "name": "python3"
  },
  "language_info": {
   "codemirror_mode": {
    "name": "ipython",
    "version": 3
   },
   "file_extension": ".py",
   "mimetype": "text/x-python",
   "name": "python",
   "nbconvert_exporter": "python",
   "pygments_lexer": "ipython3",
   "version": "3.7.4"
  }
 },
 "nbformat": 4,
 "nbformat_minor": 2
}
